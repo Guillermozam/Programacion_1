{
 "cells": [
  {
   "cell_type": "markdown",
   "metadata": {},
   "source": [
    "## Cadenas o String\n",
    "\n",
    "En programación Python, una cadena (string en inglés) es una secuencia de caracteres Unicode, es decir, una serie de caracteres, números, símbolos y espacios en blanco que se utilizan para representar texto. Las cadenas se utilizan para manipular y trabajar con datos de texto en un programa Python. Puedes crear cadenas utilizando comillas simples (' '), comillas dobles (\" \"), o comillas triples (''' ''' o \"\"\" \"\"\") para abarcar múltiples líneas."
   ]
  },
  {
   "cell_type": "code",
   "execution_count": 35,
   "metadata": {},
   "outputs": [],
   "source": [
    "cadena_1='Hola, mundo!'\n",
    "cadena_2=\"Python es genial\"\n",
    "cadena_3='''Este es un ejemplo\n",
    "de una cadena que abarca\n",
    "varias líneas'''"
   ]
  },
  {
   "cell_type": "code",
   "execution_count": 36,
   "metadata": {},
   "outputs": [
    {
     "name": "stdout",
     "output_type": "stream",
     "text": [
      "Hola, mundo!\n",
      "Python es genial\n",
      "Este es un ejemplo\n",
      "de una cadena que abarca\n",
      "varias líneas\n"
     ]
    }
   ],
   "source": [
    "print(cadena_1)\n",
    "print(cadena_2)\n",
    "print(cadena_3)"
   ]
  },
  {
   "cell_type": "code",
   "execution_count": 6,
   "metadata": {},
   "outputs": [],
   "source": [
    "cadena1 = \"Hola\"\n",
    "cadena2 = \"mundo\"\n",
    "\n",
    "# Concatenación de cadenas\n",
    "concatenada = cadena1 + \", \" + cadena2  # Resultado: \"Hola, mundo\"\n",
    "\n",
    "# Acceso a caracteres individuales (indexación)\n",
    "primer_caracter = cadena1[0]  # Resultado: \"H\"\n",
    "\n",
    "# Reemplazar una subcadena\n",
    "nueva_cadena = cadena1.replace(\"Hola\", \"Saludos\")  # Resultado: \"Saludos\"\n",
    "\n",
    "# Dividir una cadena en palabras\n",
    "palabras = cadena2.split()  # Resultado: [\"mundo\"]\n",
    "\n",
    "# Obtener la longitud de una cadena\n",
    "longitud = len(cadena1)  # Resultado: 4"
   ]
  },
  {
   "cell_type": "markdown",
   "metadata": {},
   "source": [
    "Ejercicio 1\n",
    "\n",
    "Escribir un programa que pregunte el nombre del usuario en la consola y un número entero e imprima por pantalla en líneas distintas el nombre del usuario tantas veces como el número introducido."
   ]
  },
  {
   "cell_type": "code",
   "execution_count": 42,
   "metadata": {},
   "outputs": [
    {
     "ename": "ValueError",
     "evalue": "invalid literal for int() with base 10: 'guillermo'",
     "output_type": "error",
     "traceback": [
      "\u001b[1;31m---------------------------------------------------------------------------\u001b[0m",
      "\u001b[1;31mValueError\u001b[0m                                Traceback (most recent call last)",
      "Cell \u001b[1;32mIn[42], line 2\u001b[0m\n\u001b[0;32m      1\u001b[0m nombre \u001b[39m=\u001b[39m (\u001b[39m\"\u001b[39m\u001b[39m¿como te llamas?\u001b[39m\u001b[39m\"\u001b[39m)\n\u001b[1;32m----> 2\u001b[0m n \u001b[39m=\u001b[39m \u001b[39mint\u001b[39;49m(\u001b[39minput\u001b[39;49m(\u001b[39m\"\u001b[39;49m\u001b[39mintroduce un nombre: \u001b[39;49m\u001b[39m\"\u001b[39;49m))\n\u001b[0;32m      3\u001b[0m \u001b[39mprint\u001b[39m((nombre \u001b[39m+\u001b[39m \u001b[39m\"\u001b[39m\u001b[39m/n\u001b[39m\u001b[39m\"\u001b[39m) \u001b[39m*\u001b[39m \u001b[39mint\u001b[39m(n))\n",
      "\u001b[1;31mValueError\u001b[0m: invalid literal for int() with base 10: 'guillermo'"
     ]
    }
   ],
   "source": [
    "nombre = (\"¿como te llamas?\")\n",
    "n = int(input(\"introduce un numero: \"))\n",
    "print((nombre + \"/n\") * int(n))\n",
    "     "
   ]
  },
  {
   "cell_type": "markdown",
   "metadata": {},
   "source": [
    "Escribir un programa que pregunte el nombre completo del usuario en la consola y después muestre por pantalla el nombre completo del usuario tres veces, una con todas las letras minúsculas, otra con todas las letras mayúsculas y otra solo con la primera letra del nombre y de los apellidos en mayúscula. El usuario puede introducir su nombre combinando mayúsculas y minúsculas como"
   ]
  },
  {
   "cell_type": "code",
   "execution_count": 11,
   "metadata": {},
   "outputs": [
    {
     "name": "stdout",
     "output_type": "stream",
     "text": [
      "zamora\n",
      "ZAMORA\n",
      "Zamora\n"
     ]
    }
   ],
   "source": [
    "name = input(\"¿como te llamas? \")\n",
    "print(name.lower())\n",
    "print(name.upper())\n",
    "print(name.title())\n"
   ]
  },
  {
   "cell_type": "code",
   "execution_count": 15,
   "metadata": {},
   "outputs": [
    {
     "name": "stdout",
     "output_type": "stream",
     "text": [
      "guillermo\n",
      "l\n"
     ]
    }
   ],
   "source": [
    "n= input (\"¿como te llamas?\")\n",
    "print(n)\n",
    "print(n[3])\n"
   ]
  },
  {
   "cell_type": "markdown",
   "metadata": {},
   "source": [
    "## Ejercicio 3 \n",
    "\n",
    "Escribir un programa que pregunte el nombre del usuario en la consola y después de que el usuario lo introduzca muestre por pantalla `<NOMBRE> tiene <n> letras`, donde `<NOMBRE>` es el nombre de usuario en mayúsculas y `<n>` es el número de letras que tienen el nombre."
   ]
  },
  {
   "cell_type": "code",
   "execution_count": 34,
   "metadata": {},
   "outputs": [
    {
     "name": "stdout",
     "output_type": "stream",
     "text": [
      "GUILLERMO tiene 9 letras\n"
     ]
    }
   ],
   "source": [
    "nombre= input(\"¿como te llamas?\")\n",
    "print (nombre.upper() , \"tiene\" ,  str  (len(nombre)),  \"letras\")\n",
    " "
   ]
  },
  {
   "cell_type": "markdown",
   "metadata": {},
   "source": [
    "## Ejercicio 4\n",
    "\n",
    "Los teléfonos de una empresa tienen el siguiente formato `prefijo-número-extension` donde el prefijo es el código del país `+55`, y la extensión tiene dos dígitos (por ejemplo `+55-33482535-56`). Escribir un programa que pregunte por un número de teléfono con este formato en la consola y muestre por pantalla el número de teléfono sin el prefijo y la extensión."
   ]
  },
  {
   "cell_type": "code",
   "execution_count": 33,
   "metadata": {},
   "outputs": [
    {
     "name": "stdout",
     "output_type": "stream",
     "text": [
      "el numero de telefono es:  33482535\n"
     ]
    }
   ],
   "source": [
    "tel= input(\"introducir el numero de telefono en el formato +xx-xxxxxxxx-xx: \")\n",
    "print(\"el numero de telefono es: \", tel[4:-3])"
   ]
  },
  {
   "cell_type": "code",
   "execution_count": null,
   "metadata": {},
   "outputs": [],
   "source": []
  }
 ],
 "metadata": {
  "kernelspec": {
   "display_name": "progra_1",
   "language": "python",
   "name": "python3"
  },
  "language_info": {
   "codemirror_mode": {
    "name": "ipython",
    "version": 3
   },
   "file_extension": ".py",
   "mimetype": "text/x-python",
   "name": "python",
   "nbconvert_exporter": "python",
   "pygments_lexer": "ipython3",
   "version": "3.8.17"
  },
  "orig_nbformat": 4
 },
 "nbformat": 4,
 "nbformat_minor": 2
}
