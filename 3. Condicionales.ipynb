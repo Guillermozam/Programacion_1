{
 "cells": [
  {
   "cell_type": "markdown",
   "metadata": {},
   "source": [
    "# Condicionales\n",
    "\n",
    "Los condicionales en Python se utilizan para tomar decisiones basadas en condiciones específicas. Puedes usar las siguientes estructuras condicionales en Python:\n",
    "\n",
    "if: La declaración if se usa para ejecutar un bloque de código si una condición es verdadera.\n",
    "#if condicion:\n",
    "    # Código a ejecutar si la condición es verdadera"
   ]
  },
  {
   "cell_type": "markdown",
   "metadata": {},
   "source": [
    "# Ejercicios Condicionales"
   ]
  },
  {
   "cell_type": "markdown",
   "metadata": {},
   "source": [
    "## Ejercicio 1\n",
    "Escribir un programa que pregunte al usuario su edad y muestre por pantalla si es mayor de edad o no."
   ]
  },
  {
   "cell_type": "code",
   "execution_count": 2,
   "metadata": {},
   "outputs": [
    {
     "name": "stdout",
     "output_type": "stream",
     "text": [
      "Eres mayor de edad.\n"
     ]
    }
   ],
   "source": [
    "age = int(input(\"¿Cuál es tu edad? \"))\n",
    "if age < 18: \n",
    "    print (\"Eres menor de edad.\")\n",
    "else:\n",
    "    print(\"Eres mayor de edad.\")"
   ]
  },
  {
   "cell_type": "markdown",
   "metadata": {},
   "source": [
    "## Ejercicio 2\n",
    "\n",
    "Escribir un programa que almacene la cadena de caracteres `contraseña` en una variable, pregunte al usuario por la contraseña e imprima por pantalla si la contraseña introducida por el usuario coincide con la guardada en la variable sin tener en cuenta mayúsculas y minúsculas."
   ]
  },
  {
   "cell_type": "code",
   "execution_count": 3,
   "metadata": {},
   "outputs": [
    {
     "name": "stdout",
     "output_type": "stream",
     "text": [
      "La contaseña coincide\n"
     ]
    }
   ],
   "source": [
    "key = \"contraseña\"\n",
    "password = input(\"Introduce la contraseña: \")\n",
    "if key == password.lower():\n",
    "    print(\"La contaseña coincide\")\n",
    "else:\n",
    "    print(\"La contraseña no coincide\")"
   ]
  },
  {
   "cell_type": "markdown",
   "metadata": {},
   "source": []
  },
  {
   "cell_type": "markdown",
   "metadata": {},
   "source": [
    "## Ejercicio 3\n",
    "\n",
    "Escribir un programa que pida al usuario dos números y devuelva su división. Si el usuario no introduce números debe devolver un aviso de error y si el divisor es cero también."
   ]
  },
  {
   "cell_type": "code",
   "execution_count": 4,
   "metadata": {},
   "outputs": [
    {
     "name": "stdout",
     "output_type": "stream",
     "text": [
      "2.0\n"
     ]
    }
   ],
   "source": [
    "n = float(input(\"introduce el dividendo\"))\n",
    "m= float(input(\"introduce el divisor: \"))\n",
    "if m == 0:\n",
    "    print(\"error! No se puede dividir por 0. \")\n",
    "else:\n",
    "    print(n/m)\n",
    "\n"
   ]
  },
  {
   "cell_type": "markdown",
   "metadata": {},
   "source": [
    "## Ejercicio 4\n",
    "\n",
    "Escribir un programa que pida al usuario un número entero y muestre por pantalla si es par o impar."
   ]
  },
  {
   "cell_type": "code",
   "execution_count": 5,
   "metadata": {},
   "outputs": [
    {
     "name": "stdout",
     "output_type": "stream",
     "text": [
      "el numero  10es par\n"
     ]
    }
   ],
   "source": [
    "n= int(input(\"introduce un numero entero: \"))\n",
    "if n % 2 == 0:\n",
    "    print(\"el numero \" ,  str(n) +  \"es par\")\n",
    "else:\n",
    "    print(\"el numero\" ,  str(n)+  \"es inpar\")\n"
   ]
  },
  {
   "cell_type": "markdown",
   "metadata": {},
   "source": [
    "## Ejercicio 5\n",
    "\n",
    "Para tributar un determinado impuesto se debe ser mayor de 18 años y tener unos ingresos superiores a 1000 € mensuales.\n",
    "Escribir un programa que pregunte al usuario su edad y sus ingresos mensuales y muestre por pantalla si el usuario tiene que tributar o no."
   ]
  },
  {
   "cell_type": "markdown",
   "metadata": {},
   "source": [
    "***Solucion 1***\n"
   ]
  },
  {
   "cell_type": "code",
   "execution_count": 6,
   "metadata": {},
   "outputs": [
    {
     "name": "stdout",
     "output_type": "stream",
     "text": [
      "tiene que pagar impuestos\n"
     ]
    }
   ],
   "source": [
    "\n",
    "age = int(input(\"¿cual es tu edad? \"))\n",
    "income = float(input(\" ¿cuales son tus ingresos mensuales?\"))\n",
    "if age >= 18 and income >= 1000:\n",
    "    print(\"tiene que pagar impuestos\")\n",
    "else:\n",
    "    print(\"no tiene que pagar impuestos\")"
   ]
  },
  {
   "cell_type": "markdown",
   "metadata": {},
   "source": [
    "***Solucion 2***\n"
   ]
  },
  {
   "cell_type": "code",
   "execution_count": 7,
   "metadata": {},
   "outputs": [
    {
     "name": "stdout",
     "output_type": "stream",
     "text": [
      "No tienes que pagar inpuestos\n"
     ]
    }
   ],
   "source": [
    "\n",
    "age = int(input(\"¿Cuál es tu edad? \"))\n",
    "income = float(input(\"¿Cuales son tus ingresos mensuales?\"))\n",
    "if age > 16 and income >= 1000:\n",
    "    print(\"Tienes que pagar impuestos\")\n",
    "else:\n",
    "    print(\"No tienes que pagar inpuestos\")"
   ]
  },
  {
   "cell_type": "markdown",
   "metadata": {},
   "source": [
    "## Ejercicio 6\n",
    "\n",
    "Los alumnos de un curso se han dividido en dos grupos A y B de acuerdo al sexo y el nombre. El grupo A esta formado por las mujeres con un nombre anterior a la M y los hombres con un nombre posterior a la N y el grupo B por el resto.\n",
    "Escribir un programa que pregunte al usuario su nombre y sexo, y muestre por pantalla el grupo que le corresponde.2"
   ]
  },
  {
   "cell_type": "markdown",
   "metadata": {},
   "source": [
    "***Solucion 1***"
   ]
  },
  {
   "cell_type": "code",
   "execution_count": 8,
   "metadata": {},
   "outputs": [
    {
     "name": "stdout",
     "output_type": "stream",
     "text": [
      "Tu grupo es A\n"
     ]
    }
   ],
   "source": [
    "name = input(\"¿Como te llamas?: \")\n",
    "gender= input(\"¿Cual es tu sexo (M o H) ?: \")\n",
    "if (gender == \"M\" and name.lower() <\"m\") or (gender == \"H\" and name.lower() <\"n\"):\n",
    "    group = \"A\"\n",
    "else: \n",
    "    group = \"B\"\n",
    "print(\"Tu grupo es \" + group)"
   ]
  },
  {
   "cell_type": "markdown",
   "metadata": {},
   "source": [
    "## Ejercicio 7\n",
    "\n",
    "\n",
    "Los tramos impositivos para la declaración de la renta en un determinado país son los siguientes:\n",
    "\n",
    "|         Renta          | Tipo impositivo |\n",
    "| :--------------------: | :-------------: |\n",
    "|    Menos de 10000€     |       5%        |\n",
    "| Entre 10000€ y 20000€  |       15%       |\n",
    "| Entre 20000€ y 35000€  |       20%       |\n",
    "| Entre 35000€ y 60000€  |       30%       |\n",
    "|     Más de 60000€      |       45%       |\n",
    "\n",
    "Escribir un programa que pregunte al usuario su renta anual y muestre por pantalla lo que tiene que pagar."
   ]
  },
  {
   "cell_type": "code",
   "execution_count": 9,
   "metadata": {},
   "outputs": [
    {
     "name": "stdout",
     "output_type": "stream",
     "text": [
      "Tiene que pagar 10500.0euros\n"
     ]
    }
   ],
   "source": [
    "renta=float(input(\"¿Cual es tu renta anual?: \"))\n",
    "if renta < 10000: porcentaje = 5\n",
    "elif renta < 20000: porcentaje = 15\n",
    "elif renta < 35000: porcentaje = 20\n",
    "elif renta < 60000: porcentaje = 30\n",
    "else: porcentaje = 45\n",
    "\n",
    "print (\"Tiene que pagar \", renta * porcentaje /100, \"euros\",  sep = '')"
   ]
  },
  {
   "cell_type": "markdown",
   "metadata": {},
   "source": [
    "## Ejercicio 8\n",
    "\n",
    "En una determinada empresa, sus empleados son evaluados al final de cada año. Los puntos que pueden obtener en la evaluación comienzan en 0.0 y pueden ir aumentando, traduciéndose en mejores beneficios.\n",
    "Los puntos que pueden conseguir los empleados pueden ser 0.0, 0.4. o 0.6, pero no valores intermedios entre las cifras mencionadas.\n",
    "A continuación se muestra una tabla con los niveles correspondientes a cada puntuación.\n",
    "La cantidad de dinero conseguida en cada nivel es de 2.400€ multiplicada por la puntuación del nivel.\n",
    "\n",
    "|    Nivel    | Puntuación |\n",
    "| :---------: | :--------: |\n",
    "| Inaceptable |    0.0     |\n",
    "|  Aceptable  |    0.4     |\n",
    "|  Meritorio  |    0.6     |\n",
    "\n",
    "Escribir un programa que lea la puntuación del usuario e indique su nivel de rendimiento, así como la cantidad de dinero que recibirá el usuario."
   ]
  },
  {
   "cell_type": "code",
   "execution_count": 14,
   "metadata": {},
   "outputs": [
    {
     "name": "stdout",
     "output_type": "stream",
     "text": [
      "Tu nivel de rendimiento es: Meritorio\n",
      "Debes de cobrar 1440.0\n"
     ]
    }
   ],
   "source": [
    "inaceptable = 0\n",
    "aceptable = 0.4\n",
    "meritorio = 0.6\n",
    "bono = 2400\n",
    "puntos = float (input(\"Escribe tu puntacion: \"))\n",
    "\n",
    "if puntos == inaceptable:\n",
    "    nivel = \"Inaceptable\"\n",
    "elif puntos == aceptable:\n",
    "    nivel = \"Aceptable\"\n",
    "elif puntos >= 0.6:\n",
    "    nivel = \"Meritorio\"\n",
    "if nivel == \"\":\n",
    "    print(\"Ésta puntuacion no es valida\")  \n",
    "else:\n",
    "    print(\"Tu nivel de rendimiento es: %s\" % nivel)\n",
    "    print(\"Debes de cobrar %s\" % (puntos * bono))\n"
   ]
  },
  {
   "cell_type": "markdown",
   "metadata": {},
   "source": [
    "## Ejercicio 9\n",
    "\n",
    "Escribir un programa para una empresa que tiene salas de juegos para todas las edades y quiere calcular de forma automática el precio que debe cobrar a sus clientes por entrar.\n",
    "El programa debe preguntar al usuario la edad del cliente y mostrar el precio de la entrada.\n",
    "Si el cliente es menor de 4 años puede entrar gratis, si tiene entre 4 y 18 años debe pagar 5€ y si es mayor de 18 años, 10€.\n"
   ]
  },
  {
   "cell_type": "code",
   "execution_count": 17,
   "metadata": {},
   "outputs": [
    {
     "name": "stdout",
     "output_type": "stream",
     "text": [
      "El precio que debe pagar es:  10 euros\n"
     ]
    }
   ],
   "source": [
    "edad = int(input(\"Escribe tu edad: \"))\n",
    "if edad <6:\n",
    "  precio = 0\n",
    "elif edad <= 18:\n",
    "  precio = 5\n",
    "else:\n",
    "  precio = 10\n",
    "print(\"El precio que debe pagar es: \", precio, \"euros\")"
   ]
  },
  {
   "cell_type": "markdown",
   "metadata": {},
   "source": [
    "## Ejercicio 10\n",
    "La pizzería Bella Napoli ofrece pizzas vegetarianas y no vegetarianas a sus clientes. Los ingredientes para cada tipo de pizza aparecen a continuación.\n",
    "\n",
    "Ingredientes vegetarianos: Pimiento y tofu.\n",
    "Ingredientes no vegetarianos: Peperoni, Jamón y Salmón.\n",
    "Escribir un programa que pregunte al usuario si quiere una pizza vegetariana o no, y en función de su respuesta le muestre un menú con los ingredientes disponibles para que elija. Solo se puede eligir un ingrediente además de la mozzarella y el tomate que están en todas la pizzas. Al final se debe mostrar por pantalla si la pizza elegida es vegetariana o no y todos los ingredientes que lleva."
   ]
  },
  {
   "cell_type": "code",
   "execution_count": 20,
   "metadata": {},
   "outputs": [
    {
     "name": "stdout",
     "output_type": "stream",
     "text": [
      "Bienvenido a la pizzeria Bella Napoli.\n",
      "Tipos de pizza\n",
      "\t1- Vegetariana\n",
      "\t2- No vegetariana\n",
      "\n",
      "Ingredientes de pizzas vegetarianas\n",
      "\t 1- Pimiento\n",
      "\t2- Tofu\n",
      "\n",
      "Pizza vegetariana con mozzarella, tomate y tofu\n"
     ]
    }
   ],
   "source": [
    "# Presentación del menú con los tipos de pizza\n",
    "print(\"Bienvenido a la pizzeria Bella Napoli.\\nTipos de pizza\\n\\t1- Vegetariana\\n\\t2- No vegetariana\\n\")\n",
    "tipo = input(\"Introduce el número correspondiente al tipo de pizza que quieres:\")\n",
    "# Decisión sobre el tipo de pizza\n",
    "if tipo == \"1\":\n",
    "    print(\"Ingredientes de pizzas vegetarianas\\n\\t 1- Pimiento\\n\\t2- Tofu\\n\")\n",
    "    ingrediente = input(\"Introduce el ingrediente que deseas: \")\n",
    "    print(\"Pizza vegetariana con mozzarella, tomate y \", end=\"\")\n",
    "    if ingrediente == \"1\":\n",
    "        print(\"pimiento\")\n",
    "    else: \n",
    "        print(\"tofu\")\n",
    "else:\n",
    "    print(\"Ingredientes de pizzas no vegetarianas\\n\\t1- Peperoni\\n\\t2- Jamón\\n\\t3- Salmón\\n\")\n",
    "    ingrediente = input(\"Introduce el ingrediente que deseas: \")\n",
    "    print(\"Pizza no vegetarina con mozarrella, tomate y \", end=\"\")\n",
    "    if ingrediente == \"1\":\n",
    "        print(\"peperoni\")\n",
    "    elif ingrediente == \"2\":\n",
    "        print(\"jamón\")\n",
    "    else:\n",
    "        print(\"salmón\")"
   ]
  },
  {
   "cell_type": "code",
   "execution_count": 24,
   "metadata": {},
   "outputs": [
    {
     "name": "stdout",
     "output_type": "stream",
     "text": [
      "\n",
      "Tipos de pizza\n",
      "\t1- Vegetariana\n",
      "\t2- No vegetariana\n",
      ": \n",
      "Ingredientes de pizza no vegetariana\n",
      "\t1- Peperoni\n",
      "\t2- Jamon\n",
      "\t3- Salmon\n",
      "Pizza No vegetariana con mozarella, tomate y: salmon\n"
     ]
    }
   ],
   "source": [
    "print (\"\\nTipos de pizza\\n\\t1- Vegetariana\\n\\t2- No vegetariana\\n: \")\n",
    "tipo = input(\"Escribe el numero que corresponda al tipo de pizza: \")\n",
    "if tipo == \"1\":\n",
    "    print(\"Ingredientes de pizzas vegetarianas\\n\\t1- Pimiento\\n\\t2- Tofu\\n\")\n",
    "    ingrediente = input(\"introduce el ingrediente que deseas: \")\n",
    "    print(\"Pizza vegetariana con mozarella, tomate y: \", end= \"\")\n",
    "    if ingrediente == \"1\":\n",
    "        print(\"Pimiento\")\n",
    "    elif ingrediente == \"2\":\n",
    "        print(\"Tofu\")\n",
    "if tipo == \"2\":\n",
    "    print(\"Ingredientes de pizza no vegetariana\\n\\t1- Peperoni\\n\\t2- Jamon\\n\\t3- Salmon\")\n",
    "    ingrediente = input(\"introduce el ingrediente que deseas: \")\n",
    "    print(\"Pizza No vegetariana con mozarella, tomate y: \", end= \"\")\n",
    "    if ingrediente == \"1\":\n",
    "        print(\"Peperoni\")\n",
    "    if ingrediente == \"2\":\n",
    "        print(\"jamon\")\n",
    "    else:\n",
    "        print(\"salmon\")\n"
   ]
  }
 ],
 "metadata": {
  "kernelspec": {
   "display_name": "progra_1",
   "language": "python",
   "name": "python3"
  },
  "language_info": {
   "codemirror_mode": {
    "name": "ipython",
    "version": 3
   },
   "file_extension": ".py",
   "mimetype": "text/x-python",
   "name": "python",
   "nbconvert_exporter": "python",
   "pygments_lexer": "ipython3",
   "version": "3.8.17"
  },
  "orig_nbformat": 4
 },
 "nbformat": 4,
 "nbformat_minor": 2
}
