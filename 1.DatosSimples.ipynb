{
 "cells": [
  {
   "cell_type": "markdown",
   "metadata": {},
   "source": [
    "Mi primer Script"
   ]
  },
  {
   "cell_type": "code",
   "execution_count": 2,
   "metadata": {},
   "outputs": [
    {
     "data": {
      "text/plain": [
       "7"
      ]
     },
     "execution_count": 2,
     "metadata": {},
     "output_type": "execute_result"
    }
   ],
   "source": [
    "2+5\n",
    "\n"
   ]
  },
  {
   "cell_type": "code",
   "execution_count": 3,
   "metadata": {},
   "outputs": [],
   "source": [
    "A = 3;\n"
   ]
  },
  {
   "cell_type": "code",
   "execution_count": 4,
   "metadata": {},
   "outputs": [],
   "source": [
    "B = 6"
   ]
  },
  {
   "cell_type": "code",
   "execution_count": 5,
   "metadata": {},
   "outputs": [],
   "source": [
    "C = A + B"
   ]
  },
  {
   "cell_type": "code",
   "execution_count": 6,
   "metadata": {},
   "outputs": [
    {
     "data": {
      "text/plain": [
       "9"
      ]
     },
     "execution_count": 6,
     "metadata": {},
     "output_type": "execute_result"
    }
   ],
   "source": [
    "C"
   ]
  },
  {
   "cell_type": "markdown",
   "metadata": {},
   "source": [
    "Multiplicacion de Variables \n"
   ]
  },
  {
   "cell_type": "code",
   "execution_count": 7,
   "metadata": {},
   "outputs": [
    {
     "data": {
      "text/plain": [
       "18"
      ]
     },
     "execution_count": 7,
     "metadata": {},
     "output_type": "execute_result"
    }
   ],
   "source": [
    "D = A*B\n",
    "D"
   ]
  },
  {
   "cell_type": "markdown",
   "metadata": {},
   "source": [
    "Suma de dos variables"
   ]
  },
  {
   "cell_type": "code",
   "execution_count": 4,
   "metadata": {},
   "outputs": [
    {
     "name": "stdout",
     "output_type": "stream",
     "text": [
      "la suma es: 15\n"
     ]
    }
   ],
   "source": [
    "num1= 5\n",
    "num2= 10\n",
    "suma= num1 + num2\n",
    "print(\"la suma es:\" , suma)"
   ]
  },
  {
   "cell_type": "code",
   "execution_count": 3,
   "metadata": {},
   "outputs": [
    {
     "name": "stdout",
     "output_type": "stream",
     "text": [
      "la resta de las variables es -100\n"
     ]
    }
   ],
   "source": [
    "num1= 30\n",
    "num2= 50\n",
    "num3= 80\n",
    "resta= num1 - num2 - num3\n",
    "print(\"la resta de las variables es\", resta)\n"
   ]
  },
  {
   "cell_type": "markdown",
   "metadata": {},
   "source": [
    "Area de Rectangulo, Triangulo y Circulo"
   ]
  },
  {
   "cell_type": "code",
   "execution_count": 8,
   "metadata": {},
   "outputs": [
    {
     "name": "stdout",
     "output_type": "stream",
     "text": [
      "el area de un cuadrado es 3000\n"
     ]
    }
   ],
   "source": [
    "#Area de un Rectangulo\n",
    "base= 50\n",
    "altura= 60\n",
    "multiplicacion= base * altura\n",
    "print(\"el area de un cuadrado es\", multiplicacion)"
   ]
  },
  {
   "cell_type": "code",
   "execution_count": 11,
   "metadata": {},
   "outputs": [
    {
     "name": "stdout",
     "output_type": "stream",
     "text": [
      "el area de un triangulo es 900.0\n"
     ]
    }
   ],
   "source": [
    "#Area de un Triangulo\n",
    "base= 60\n",
    "altura= 30\n",
    "multiplicacion= (base * altura/2)\n",
    "print(\"el area de un triangulo es\", multiplicacion) "
   ]
  },
  {
   "cell_type": "code",
   "execution_count": null,
   "metadata": {},
   "outputs": [
    {
     "name": "stdout",
     "output_type": "stream",
     "text": [
      "El area del circulo es:  78.54 m2\n"
     ]
    }
   ],
   "source": [
    "import math\n",
    "\n",
    "radio = 5\n",
    "\n",
    "circulo = math.pi * (radio ** 2)\n",
    "\n",
    "print('El area del circulo es: ', round(circulo, 2), \"m2\")"
   ]
  },
  {
   "cell_type": "code",
   "execution_count": 11,
   "metadata": {},
   "outputs": [
    {
     "name": "stdout",
     "output_type": "stream",
     "text": [
      "la suma es 12\n"
     ]
    }
   ],
   "source": [
    "#las variables se suman, pero para unir una variable, por ejemplo: variable 1 + 2= 12\n",
    "n1 = input(\"introduce el primer valor: \")\n",
    "n2 = input(\"introduce el segundo valor\")\n",
    "suma = n1 + n2\n",
    "print(\"la suma es\", suma)\n"
   ]
  },
  {
   "cell_type": "code",
   "execution_count": 9,
   "metadata": {},
   "outputs": [
    {
     "name": "stdout",
     "output_type": "stream",
     "text": [
      "la suma es:  11\n"
     ]
    }
   ],
   "source": [
    "#las variables son enteros\n",
    "n1 = int(input(\"introduce el primer valor: \"))\n",
    "n2 = int(input(\"introduce eñ segundo valor\"))\n",
    "suma = n1 + n2\n",
    "print(\"la suma es: \", suma)"
   ]
  },
  {
   "cell_type": "markdown",
   "metadata": {},
   "source": [
    "Tarea 31/08/2023\n"
   ]
  },
  {
   "cell_type": "code",
   "execution_count": 6,
   "metadata": {},
   "outputs": [
    {
     "name": "stdout",
     "output_type": "stream",
     "text": [
      "el area de un rectangulo es  200\n"
     ]
    }
   ],
   "source": [
    "#Area de un Rectangulo \n",
    "base= int(input(\"introduce el primer valor: \"))\n",
    "altura= int(input(\"introduce el segundo valor \"))\n",
    "multiplicacion = base * altura\n",
    "print(\"el area de un rectangulo es \", multiplicacion)"
   ]
  },
  {
   "cell_type": "code",
   "execution_count": 7,
   "metadata": {},
   "outputs": [
    {
     "name": "stdout",
     "output_type": "stream",
     "text": [
      "el area de un triangulo es  20.0\n"
     ]
    }
   ],
   "source": [
    "#Area de un Triangulo\n",
    "base= int(input(\"introduce el primer valor: \"))\n",
    "altura= int(input(\"introduce el segundo valor: \"))\n",
    "multiplicacion = base * altura / (2)\n",
    "print(\"el area de un triangulo es \", multiplicacion)\n"
   ]
  },
  {
   "cell_type": "code",
   "execution_count": 16,
   "metadata": {},
   "outputs": [
    {
     "name": "stdout",
     "output_type": "stream",
     "text": [
      "el area de un circulo es 113.09733552923255\n"
     ]
    }
   ],
   "source": [
    "#Area de un circulo\n",
    "import math\n",
    "radio= int(input(\"introduce el primer valor: \"))\n",
    "multiplicacion= math.pi * (radio ** 2)\n",
    "print(\"el area de un circulo es\", multiplicacion)\n"
   ]
  },
  {
   "cell_type": "code",
   "execution_count": 23,
   "metadata": {},
   "outputs": [
    {
     "name": "stdout",
     "output_type": "stream",
     "text": [
      "la conversion de grados fahrenheit a celsius es:  15.555555555555555\n"
     ]
    }
   ],
   "source": [
    "#Conversion Grados Fahrenheit a Celsius\n",
    "fahrenheit = int(input(\"introduce el primer valor: \"))\n",
    "celsius = (fahrenheit - (32)) * 5/9\n",
    "print(\"la conversion de grados fahrenheit a celsius es: \", celsius)"
   ]
  },
  {
   "cell_type": "code",
   "execution_count": 22,
   "metadata": {},
   "outputs": [
    {
     "name": "stdout",
     "output_type": "stream",
     "text": [
      "la conversion de grados celsius a faharenheit es:  86.0\n"
     ]
    }
   ],
   "source": [
    "#Conversion Grados Celsius a Fahrenheit\n",
    "celsius= int(input(\"introduce el primer valor: \"))\n",
    "fahrenheit = (celsius * (9/5) + 32)\n",
    "print(\"la conversion de grados celsius a faharenheit es: \", fahrenheit)"
   ]
  }
 ],
 "metadata": {
  "kernelspec": {
   "display_name": "progra_1",
   "language": "python",
   "name": "python3"
  },
  "language_info": {
   "codemirror_mode": {
    "name": "ipython",
    "version": 3
   },
   "file_extension": ".py",
   "mimetype": "text/x-python",
   "name": "python",
   "nbconvert_exporter": "python",
   "pygments_lexer": "ipython3",
   "version": "3.10.9"
  },
  "orig_nbformat": 4
 },
 "nbformat": 4,
 "nbformat_minor": 2
}
