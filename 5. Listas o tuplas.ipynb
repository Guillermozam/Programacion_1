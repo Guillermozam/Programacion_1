{
 "cells": [
  {
   "cell_type": "markdown",
   "metadata": {},
   "source": [
    "## Listas o tuplas\n",
    "\n",
    "Las listas y las tuplas son dos tipos de estructuras de datos que se utilizan para almacenar colecciones de elementos. Sin embargo, tienen algunas diferencias clave:\n",
    "\n",
    "**Listas (Lists):**\n",
    "\n",
    "Las listas se definen utilizando corchetes [  ].\n",
    "Son mutables, lo que significa que se pueden modificar después de su creación. Puedes agregar, eliminar y cambiar elementos en una lista.\n",
    "Se pueden utilizar para almacenar una colección ordenada de elementos de diferentes tipos (números, cadenas, objetos, etc.).\n",
    "Ejemplo: **mi_lista = [1, 2, 3, 'cuatro']**\n",
    "\n",
    "**Tuplas (Tuples):**\n",
    "\n",
    "Las tuplas se definen utilizando paréntesis ().\n",
    "Son inmutables, lo que significa que no se pueden modificar una vez creadas. No puedes agregar, eliminar ni cambiar elementos en una tupla.\n",
    "Se utilizan para almacenar colecciones ordenadas de elementos, al igual que las listas, pero su inmutabilidad puede ser útil en ciertos contextos.\n",
    "Ejemplo: **mi_tupla = (1, 2, 3, 'cuatro')**"
   ]
  },
  {
   "cell_type": "markdown",
   "metadata": {},
   "source": [
    "**Lista**\n",
    "\n",
    "<pre>\n",
    "   <code>\n",
    "      mi_lista = [1, 2, 3]\n",
    "      mi_lista.append(4)                 # Agrega un elemento al final\n",
    "      mi_lista[1] = 5                    # Cambia el segundo elemento\n",
    "      del mi_lista[0]                    # Elimina el primer elemento\n",
    "   </code>\n",
    "</pre>\n",
    "\n",
    "**Tupla**\n",
    "\n",
    "<pre>\n",
    "   <code>\n",
    "      mi_tupla = (1, 2, 3)\n",
    "   </code>\n",
    "</pre>\n",
    "\n",
    "\n",
    "No se pueden hacer modificaciones en una tupla, por lo que no hay métodos como append, remove o pop para ellas"
   ]
  },
  {
   "cell_type": "markdown",
   "metadata": {},
   "source": [
    "**Ejercicio 1**\n",
    "\n",
    "Escribir un programa que almacene las asignaturas de un curso (por ejemplo Matemáticas, Física, Química, Historia y Lengua) en una lista y la muestre por pantalla."
   ]
  },
  {
   "cell_type": "code",
   "execution_count": 1,
   "metadata": {},
   "outputs": [
    {
     "name": "stdout",
     "output_type": "stream",
     "text": [
      "['Matematicas, Quimica, Fisica, Historia, Lengua']\n"
     ]
    }
   ],
   "source": [
    "asignaturas = [\"Matematicas, Quimica, Fisica, Historia, Lengua\"] \n",
    "print(asignaturas)"
   ]
  },
  {
   "cell_type": "markdown",
   "metadata": {},
   "source": [
    "**Ejercicio 2**\n",
    "\n",
    "Escribir un programa que almacene las asignaturas de un curso (por ejemplo Matemáticas, Física, Química, Historia y Lengua) en una lista y la muestre por pantalla."
   ]
  },
  {
   "cell_type": "code",
   "execution_count": 6,
   "metadata": {},
   "outputs": [
    {
     "name": "stdout",
     "output_type": "stream",
     "text": [
      "Matematicas\n",
      "Fisica\n",
      "Quimica\n",
      "Historia\n",
      "Lengua\n"
     ]
    }
   ],
   "source": [
    "asignaturas = [\"Matematicas\",\"Fisica\",\"Quimica\", \"Historia\", \"Lengua\"]\n",
    "for asignaturas in asignaturas:\n",
    "   print(asignaturas)"
   ]
  },
  {
   "cell_type": "code",
   "execution_count": 5,
   "metadata": {},
   "outputs": [
    {
     "name": "stdout",
     "output_type": "stream",
     "text": [
      "Matematicas\n",
      "Fisica\n",
      "Español\n",
      "Lengua\n"
     ]
    }
   ],
   "source": [
    "asignaturas = [\"Matematicas\", \"Fisica\",\"Español\", \"Lengua\"]\n",
    "for i in range (len(asignaturas)):\n",
    "  print(asignaturas [i])"
   ]
  },
  {
   "cell_type": "markdown",
   "metadata": {},
   "source": [
    "**Ejercicio 3**\n",
    "\n",
    " Escribir un programa que almacene las asignaturas de un curso (por ejemplo Matemáticas, Física, Química, Historia y Lengua) en una lista, pida al usuario la calificación en cada materia y la muestre por pantalla."
   ]
  },
  {
   "cell_type": "code",
   "execution_count": 11,
   "metadata": {},
   "outputs": [
    {
     "name": "stdout",
     "output_type": "stream",
     "text": [
      "Calificacion en Matematicas Obtuviste 10\n",
      "Calificacion en Fisica Obtuviste 8\n",
      "Calificacion en Historia Obtuviste 9\n",
      "Calificacion en Lengua Obtuviste 9\n"
     ]
    }
   ],
   "source": [
    "asignaturas = [\"Matematicas\", \"Fisica\", \"Historia\", \"Lengua\"]\n",
    "calificaciones = []\n",
    "for asignatura in asignaturas:\n",
    "  calificacion = input(\"Ingrese la calificacion obtenida por materia\" + asignatura)\n",
    "  calificaciones.append(calificacion) \n",
    "for i in range (len(asignaturas)):\n",
    "  print(\"Calificacion en \" + asignaturas[i] +  \" Obtuviste \" +  calificaciones[i])\n"
   ]
  },
  {
   "cell_type": "code",
   "execution_count": 12,
   "metadata": {},
   "outputs": [
    {
     "name": "stdout",
     "output_type": "stream",
     "text": [
      "Calificacion en MatematicasTuviste 10\n",
      "Calificacion en FisicaTuviste 9\n",
      "Calificacion en EspañolTuviste 8\n",
      "Calificacion en LenguaTuviste 9\n"
     ]
    }
   ],
   "source": [
    "asignaturas = [\"Matematicas\", \"Fisica\",\"Español\", \"Lengua\"]\n",
    "calificaciones = []\n",
    "for asigantura in asignaturas:\n",
    "  calificacion = input(\"Ingrese la calificacion obtenida en la materia\" + asignatura)\n",
    "  calificaciones.append(calificacion)\n",
    "for i in range (len(asignaturas)):\n",
    "  print(\"Calificacion en \" + asignaturas [i] + \"Tuviste \" + calificaciones[i])\n",
    "  "
   ]
  },
  {
   "cell_type": "markdown",
   "metadata": {},
   "source": [
    "**Ejercicio 4**\n",
    "\n",
    "Escribir un programa que pregunte al usuario los números ganadores de la lotería primitiva, los almacene en una lista y los muestre por pantalla ordenados de menor a mayor."
   ]
  },
  {
   "cell_type": "code",
   "execution_count": 44,
   "metadata": {},
   "outputs": [
    {
     "name": "stdout",
     "output_type": "stream",
     "text": [
      "Los numeros ganadores son: [8, 9, 9, 9, 99]\n"
     ]
    }
   ],
   "source": [
    "numeros_ganadores = []\n",
    "for i in range(5):\n",
    "    numeros_ganadores.append(int(input(\"Ingrese los numeros ganadores de la loteria: \")))\n",
    "numeros_ganadores.sort()\n",
    "print(\"Los numeros ganadores son: \" + str(numeros_ganadores))"
   ]
  },
  {
   "cell_type": "markdown",
   "metadata": {},
   "source": [
    "**Ejercicio 5**\n",
    "\n",
    "Escribir un programa que almacene en una lista los números del 1 al 10 y los muestre por pantalla en orden inverso separados por comas."
   ]
  },
  {
   "cell_type": "code",
   "execution_count": 55,
   "metadata": {},
   "outputs": [
    {
     "name": "stdout",
     "output_type": "stream",
     "text": [
      "10, 9, 8, 7, 6, 5, 4, 3, 2, 1, "
     ]
    }
   ],
   "source": [
    "lista_numeros = [1,2,3,4,5,6,7,8,9,10]\n",
    "for numeros in range(1,11):\n",
    "    \n",
    "    print(lista_numeros[-numeros], end= \", \")"
   ]
  },
  {
   "cell_type": "markdown",
   "metadata": {},
   "source": [
    "**Ejercicio 6**\n",
    "\n",
    "Escribir un programa que almacene las asignaturas de un curso (por ejemplo Matemáticas, Física, Química, Historia y Lengua) en una lista, pregunte al usuario la nota que ha sacado en cada asignatura y elimine de la lista las asignaturas aprobadas. Al final el programa debe mostrar por pantalla las asignaturas que el usuario tiene que repetir."
   ]
  },
  {
   "cell_type": "code",
   "execution_count": 61,
   "metadata": {},
   "outputs": [
    {
     "name": "stdout",
     "output_type": "stream",
     "text": [
      "Debes repetir ['Matematicas', 'Fisica', 'Quimica', 'Historia', 'Lengua']\n"
     ]
    }
   ],
   "source": [
    "asignaturas = [\"Matematicas\", \"Fisica\", \"Quimica\", \"Historia\", \"Lengua\"]\n",
    "calificaciones = []\n",
    "for asignatura in asignaturas: \n",
    "    calificacion = float(input(\"Que calificacion obtuviste\" + asignatura + \"?\"))\n",
    "    \n",
    "    if calificacion >= 6:\n",
    "        calificaciones.append(asignatura)\n",
    "for asignatura in calificaciones:\n",
    "    asignaturas.remove(asignatura)\n",
    "print(\"Debes repetir \" + str(asignaturas))"
   ]
  },
  {
   "cell_type": "markdown",
   "metadata": {},
   "source": [
    "**Ejercicio  7**\n",
    "\n",
    "Escribir un programa que almacene el abecedario en una lista, elimine de la lista las letras que ocupen posiciones múltiplos de 3, y muestre por pantalla la lista resultante."
   ]
  },
  {
   "cell_type": "code",
   "execution_count": 67,
   "metadata": {},
   "outputs": [
    {
     "name": "stdout",
     "output_type": "stream",
     "text": [
      "['a', 'c', 'd', 'f', 'g', 'i', 'j', 'l', 'm', 'ñ', 'o', 'q', 'r', 't', 'u', 'w', 'x', 'z']\n"
     ]
    }
   ],
   "source": [
    "abecedario = ['a', 'b', 'c', 'd', 'e', 'f', 'g', 'h', 'i', 'j', 'k', 'l', 'm', 'n', 'ñ', 'o', 'p', 'q', 'r', 's', 't', 'u', 'v', 'w', 'x', 'y', 'z']\n",
    "for i in range(len(abecedario), 1, -1):\n",
    "    if (i +1) % 3 == 0:\n",
    "        abecedario.pop(i-1)\n",
    "print(abecedario)\n"
   ]
  },
  {
   "cell_type": "markdown",
   "metadata": {},
   "source": [
    "**Ejercicio 8**\n",
    "\n",
    "Escribir un programa que pida al usuario una palabra y muestre por pantalla si es un palíndromo."
   ]
  },
  {
   "cell_type": "code",
   "execution_count": 69,
   "metadata": {},
   "outputs": [
    {
     "name": "stdout",
     "output_type": "stream",
     "text": [
      "'memo' no es un paliandromo.\n"
     ]
    }
   ],
   "source": [
    "palabra = input(\"Introduce la palabra: \")\n",
    "def es_paliandromo(palabra):\n",
    "    return palabra == palabra[::-1]\n",
    "if es_paliandromo(palabra): \n",
    "    print(f\"'{palabra}' es un paliandromo.\")\n",
    "else:\n",
    "    print(f\"'{palabra}' no es un paliandromo.\")"
   ]
  },
  {
   "cell_type": "markdown",
   "metadata": {},
   "source": [
    "**Ejercicio 9**\n",
    "\n",
    "Escribir un programa que pida al usuario una palabra y muestre por pantalla el número de veces que contiene cada vocal."
   ]
  },
  {
   "cell_type": "code",
   "execution_count": 84,
   "metadata": {},
   "outputs": [
    {
     "name": "stdout",
     "output_type": "stream",
     "text": [
      " la Vocal a aparece 1veces\n",
      " la Vocal e aparece 0veces\n",
      " la Vocal i aparece 0veces\n",
      " la Vocal o aparece 1veces\n",
      " la Vocal u aparece 0veces\n"
     ]
    }
   ],
   "source": [
    "palabra = input(\"Escriba una palabra: \")\n",
    "vocales = ['a', 'e', 'i', 'o', 'u']\n",
    "for vocal in vocales:\n",
    "    aparece = 0\n",
    "    for letra in palabra:\n",
    "        if letra == vocal:\n",
    "            aparece += 1\n",
    "    print(\" la Vocal \"  +   vocal   +  \" aparece \"  + str (aparece) +  \"veces\")"
   ]
  },
  {
   "cell_type": "markdown",
   "metadata": {},
   "source": [
    "**Ejercicio 10**\n",
    "\n",
    "Escribir un programa que almacene en una lista los siguientes precios, 50, 75, 46, 22, 80, 65, 8, y muestre por pantalla el menor y el mayor de los precios."
   ]
  },
  {
   "cell_type": "code",
   "execution_count": 12,
   "metadata": {},
   "outputs": [
    {
     "name": "stdout",
     "output_type": "stream",
     "text": [
      "El mínimo es 8\n",
      "El máximo es 80\n"
     ]
    }
   ],
   "source": [
    "prices = [50, 75, 46, 22, 80, 65, 8]\n",
    "min = max = prices[0]\n",
    "for price in prices:\n",
    "    if price < min:\n",
    "        min = price\n",
    "    elif price > max:\n",
    "        max = price\n",
    "print(\"El mínimo es \" + str(min))\n",
    "print(\"El máximo es \" + str(max))"
   ]
  },
  {
   "cell_type": "code",
   "execution_count": 88,
   "metadata": {},
   "outputs": [
    {
     "name": "stdout",
     "output_type": "stream",
     "text": [
      "El precio menor es 8\n",
      "El precio mayor es 80\n"
     ]
    }
   ],
   "source": [
    "precios = [50,75,46,22,80,65,8]\n",
    "min = precios[0]\n",
    "max = precios [0]\n",
    "for precio in precios:\n",
    "    if precio < min:\n",
    "        min = precio\n",
    "    elif precio > max:\n",
    "        max= precio\n",
    "print (\"El precio menor es \" + str(min))\n",
    "print (\"El precio mayor es \" + str(max))"
   ]
  }
 ],
 "metadata": {
  "kernelspec": {
   "display_name": "base",
   "language": "python",
   "name": "python3"
  },
  "language_info": {
   "codemirror_mode": {
    "name": "ipython",
    "version": 3
   },
   "file_extension": ".py",
   "mimetype": "text/x-python",
   "name": "python",
   "nbconvert_exporter": "python",
   "pygments_lexer": "ipython3",
   "version": "3.10.9"
  },
  "orig_nbformat": 4
 },
 "nbformat": 4,
 "nbformat_minor": 2
}
