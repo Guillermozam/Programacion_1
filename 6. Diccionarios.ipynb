{
 "cells": [
  {
   "cell_type": "markdown",
   "metadata": {},
   "source": [
    "## Diccionarios\n",
    "\n",
    "Los diccionarios en Python son una estructura de datos que permite almacenar pares de clave-valor. Cada clave está asociada a un valor, y puedes usar la clave para acceder al valor correspondiente. Aquí está cómo funcionan:\n",
    "\n",
    "* Crear un Diccionario\n",
    "\n",
    "Para crear un diccionario, utiliza llaves {} para encerrar los pares de clave-valor, con los pares separados por comas."
   ]
  },
  {
   "cell_type": "code",
   "execution_count": null,
   "metadata": {},
   "outputs": [],
   "source": [
    "#mi_diccionario = {\n",
    "#    \"nombre\": \"Alice\",\n",
    "#    \"edad\": 25,\n",
    "#    \"ciudad\": \"Nueva York\"\n",
    "#}\n"
   ]
  },
  {
   "cell_type": "markdown",
   "metadata": {},
   "source": [
    "**Métodos Útiles**\n",
    "\n",
    "Python también proporciona varios métodos útiles que puedes usar con diccionarios, como:\n",
    "\n",
    "* dict.keys(): Para obtener todas las claves del diccionario.\n",
    "* dict.values(): Para obtener todos los valores del diccionario.\n",
    "* dict.items(): Para obtener todos los pares clave-valor del diccionario.\n",
    "* dict.get(): Para obtener el valor asociado con una clave, y especificar un valor predeterminado si la clave no existe."
   ]
  },
  {
   "cell_type": "markdown",
   "metadata": {},
   "source": [
    "### Ejercicio 1\n",
    "\n",
    "Escribir un programa que guarde en una variable el diccionario `{'Euro':'€', 'Dollar':'$', 'Yen':'¥'}`, pregunte al usuario por una divisa y muestre su símbolo o un mensaje de aviso si la divisa no está en el diccionario."
   ]
  },
  {
   "cell_type": "code",
   "execution_count": 1,
   "metadata": {},
   "outputs": [
    {
     "name": "stdout",
     "output_type": "stream",
     "text": [
      "€\n"
     ]
    }
   ],
   "source": [
    "monedas = {'Euro':'€', 'Dollar':'$', 'Yen':'¥'}\n",
    "moneda = input(\"Introduce una divisa: \")\n",
    "print(monedas.get(moneda.title(), \"La divisa no está.\"))"
   ]
  },
  {
   "cell_type": "markdown",
   "metadata": {},
   "source": [
    "### Ejercicio 2\n",
    "\n",
    "Escribir un programa que pregunte al usuario su nombre, edad, dirección y teléfono y lo guarde en un diccionario. Despúes debe mostrar por pantalla el mensaje `<nombre> tiene <edad> años, vive en <dirección> y su número de teléfono es <teléfono>`."
   ]
  },
  {
   "cell_type": "code",
   "execution_count": 2,
   "metadata": {},
   "outputs": [
    {
     "name": "stdout",
     "output_type": "stream",
     "text": [
      "Rambo tiene 60 años, vive en Filipinas #489 y su número de teléfono es 6190054863\n"
     ]
    }
   ],
   "source": [
    "nombre = input('¿Cómo te llamas? ')\n",
    "edad = input('¿Cuántos años tienes? ')\n",
    "direccion = input('¿Cuál es tu dirección? ')\n",
    "telefono = input('¿Cuál es tu número de teléfono? ')\n",
    "persona = {'nombre': nombre, 'edad': edad, 'direccion': direccion, 'telefono': telefono}\n",
    "print(persona['nombre'], 'tiene', persona['edad'], 'años, vive en', persona['direccion'], 'y su número de teléfono es', persona['telefono'])"
   ]
  },
  {
   "cell_type": "markdown",
   "metadata": {},
   "source": [
    "### Ejercicio 3\n",
    "\n",
    "Escribir un programa que guarde en un diccionario los precios de las frutas de la tabla, pregunte al usuario por una fruta, un número de kilos y muestre por pantalla el precio de ese número de kilos de fruta. Si la fruta no está en el diccionario debe mostrar un mensaje informando de ello.\n",
    "\n",
    "| Fruta | Precio|\n",
    "|:-|:-:|\n",
    "|Plátano | 1.35 |\n",
    "|Manzana | 0.80|\n",
    "|Pera| 0.85|\n",
    "|Naranja | 0.70|"
   ]
  },
  {
   "cell_type": "code",
   "execution_count": null,
   "metadata": {},
   "outputs": [],
   "source": [
    "frutas = {'Plátano':1.35, 'Manzana':0.8, 'Pera':0.85, 'Naranja':0.7}\n",
    "fruta = input('¿Qué fruta quieres? ').title()\n",
    "kg = float(input('¿Cuántos kilos? '))\n",
    "if fruta in frutas:\n",
    "    print(kg, 'kilos de', fruta, 'valen', frutas[fruta]*kg, '€')\n",
    "else:\n",
    "    print(\"Lo siento, la fruta\", fruta, \"no está disponible.\")"
   ]
  },
  {
   "cell_type": "markdown",
   "metadata": {},
   "source": [
    "### Ejercicio 4\n",
    "\n",
    "Escribir un programa que pregunte una fecha en formato `dd/mm/aaaa` y muestre por pantalla la misma fecha en formato `dd de <mes> de aaaa` donde `<mes>` es el nombre del mes."
   ]
  },
  {
   "cell_type": "code",
   "execution_count": 5,
   "metadata": {},
   "outputs": [
    {
     "name": "stdout",
     "output_type": "stream",
     "text": [
      "10 de  agosto de  1997\n"
     ]
    }
   ],
   "source": [
    "meses = {1: 'enero', 2: 'febrero',3: 'marzo', 4: 'abril', 5: 'mayo', 6: 'junio', 7: 'julio', 8: 'agosto', 9: 'septiembre', 10: 'octubre', 11: 'noviembre', 12: 'diciembre'}\n",
    "fecha = input(\"Introduce la fecha en formato dd/mm/aaaa: \")\n",
    "fecha = fecha.split('/')\n",
    "print (fecha[0], 'de ', meses[int(fecha[1])] , 'de ', fecha[2])"
   ]
  },
  {
   "cell_type": "markdown",
   "metadata": {},
   "source": [
    "### Ejercicio 5\n",
    "\n",
    "Escribir un programa que almacene el diccionario con los créditos de las asignaturas de un curso `{'Matemáticas': 6, 'Física': 4, 'Química': 5}` y después muestre por pantalla los créditos de cada asignatura en el formato `<asignatura> tiene <créditos> créditos`, donde `<asignatura>` es cada una de las asignaturas del curso, y `<créditos>` son sus créditos. Al final debe mostrar también el número total de créditos del curso."
   ]
  },
  {
   "cell_type": "code",
   "execution_count": 6,
   "metadata": {},
   "outputs": [
    {
     "name": "stdout",
     "output_type": "stream",
     "text": [
      "Matematicas tiene 6 Creditos\n",
      "Fisica tiene 4 Creditos\n",
      "Quimica tiene 5 Creditos\n",
      "Numero de creditos en la materia:  15\n"
     ]
    }
   ],
   "source": [
    "materias = {'Matematicas': 6, 'Fisica': 4, 'Quimica': 5}\n",
    "total_creditos = 0\n",
    "for asignatura, creditos in materias.items():\n",
    "    total_creditos += creditos\n",
    "    print(asignatura, \"tiene\", creditos, \"Creditos\")\n",
    "print(\"Numero de creditos en la materia: \", total_creditos)\n"
   ]
  },
  {
   "cell_type": "markdown",
   "metadata": {},
   "source": [
    "### Ejercicio 6\n",
    "\n",
    "Escribir un programa que cree un diccionario vacío y lo vaya llenado con información sobre una persona (por ejemplo nombre, edad, sexo, teléfono, correo electrónico, etc.) que se le pida al usuario. Cada vez que se añada un nuevo dato debe imprimirse el contenido del diccionario."
   ]
  },
  {
   "cell_type": "code",
   "execution_count": 1,
   "metadata": {},
   "outputs": [
    {
     "name": "stdout",
     "output_type": "stream",
     "text": [
      "{'': 'Guillermo'}\n",
      "{'': 'Guillermo', 'no': ''}\n",
      "{'': 'Guillermo', 'no': '', 'si': '26'}\n",
      "{'': 'Guillermo', 'no': '9808692', 'si': '26'}\n",
      "{'': 'Guillermo', 'no': '9808692', 'si': 'guillermo_gazz@udg.cin'}\n"
     ]
    }
   ],
   "source": [
    "persona = {}\n",
    "mas_info = True\n",
    "while mas_info:\n",
    "    clave = input('Ingrese su informacion (\"Nombre\", \"Edad\", \"Sexo\", \"Telefono\", \"email\")')\n",
    "    dato = input(clave + ': ')\n",
    "    persona[clave]= dato\n",
    "    print(persona)\n",
    "    continuar = input ('Quieres añadir mas informacion? (Si/no)? ') == \"Si\"\n",
    "if cancelacion():\n",
    "    print (\"Funcion cancelada.\")\n",
    "    return\n",
    "def cancelacion():\n",
    "    return continuar.lower() == \"s\"\n",
    "\n"
   ]
  },
  {
   "cell_type": "markdown",
   "metadata": {},
   "source": [
    "### Ejercicio 7\n",
    "\n",
    "Escribir un programa que cree un diccionario simulando una cesta de la compra. El programa debe preguntar el artículo y su precio y añadir el par al diccionario, hasta que el usuario decida terminar. Después se debe mostrar por pantalla la lista de la compra y el coste total, con el siguiente formato\n",
    "\n",
    "|Lista de la compra| |\n",
    "|:-|-:|\n",
    "|Artículo 1 | Precio|\n",
    "|Artículo 2 | Precio|\n",
    "|Artículo 3 | Precio|\n",
    "|...| ...|\n",
    "|Total| Coste|"
   ]
  },
  {
   "cell_type": "code",
   "execution_count": 3,
   "metadata": {},
   "outputs": [
    {
     "name": "stdout",
     "output_type": "stream",
     "text": [
      "Lista de compra\n",
      "Uva \t 10.0\n",
      "Costo total:  10.0\n"
     ]
    }
   ],
   "source": [
    "cesta_compra = {}\n",
    "continuar = True\n",
    "while continuar:\n",
    "    articulo = input('Nombre del producto: ')\n",
    "    precio = float(input('Ingrese el precio del articulo' + articulo + ': '))\n",
    "    cesta_compra[articulo] = precio\n",
    "    continuar = input('Quiere añadir otro articulo a la cesta (Si/No)? ') == 'Si'\n",
    "costo = 0\n",
    "print(\"Lista de compra\")\n",
    "for articulo, precio in cesta_compra.items():\n",
    "    print(articulo, '\\t', precio)\n",
    "    costo += precio\n",
    "print(\"Costo total: \", costo)\n"
   ]
  },
  {
   "cell_type": "markdown",
   "metadata": {},
   "source": [
    "### Ejercicio 8\n",
    "\n",
    "Escribir un programa que cree un diccionario de traducción español-inglés. El usuario introducirá las palabras en español e inglés separadas por dos puntos, y cada par `<palabra>:<traducción>` separados por comas. El programa debe crear un diccionario con las palabras y sus traducciones. Después pedirá una frase en español y utilizará el diccionario para traducirla palabra a palabra. Si una palabra no está en el diccionario debe dejarla sin traducir."
   ]
  },
  {
   "cell_type": "code",
   "execution_count": null,
   "metadata": {},
   "outputs": [
    {
     "name": "stdout",
     "output_type": "stream",
     "text": [
      " car "
     ]
    }
   ],
   "source": [
    "diccionario = {}\n",
    "palabras = input(\"Introduzca las palabras en Español e Ingles separadas por dos puntos (:), y cada par separado por coma (,) \")\n",
    "for i in palabras.split(','):\n",
    "    clave, valor = i.split(':')\n",
    "    diccionario[clave] = valor\n",
    "    if len(palabras) == 2:\n",
    "        palabra_español = palabras[0].strip()\n",
    "        palabra_ingles = palabras [1].strip()\n",
    "        diccionario[palabra_español] = palabra_ingles\n",
    "frase = input('Escribe una frase en Español: ')\n",
    "for i in frase.split():\n",
    "    if i in diccionario:\n",
    "        print(diccionario[i], end = ' ')\n",
    "    else:\n",
    "        print(i, end= ' ')\n"
   ]
  },
  {
   "cell_type": "markdown",
   "metadata": {},
   "source": [
    "### Ejercicio  9\n",
    "\n",
    "Escribir un programa que gestione las facturas pendientes de cobro de una empresa. Las facturas se almacenarán en un diccionario donde la clave de cada factura será el número de factura y el valor el coste de la factura. El programa debe preguntar al usuario si quiere añadir una nueva factura, pagar una existente o terminar. Si desea añadir una nueva factura se preguntará por el número de factura y su coste y se añadirá al diccionario. Si se desea pagar una factura se preguntará por el número de factura y se eliminará del diccionario. Después de cada operación el programa debe mostrar por pantalla la cantidad cobrada hasta el momento y la cantidad pendiente de cobro."
   ]
  },
  {
   "cell_type": "code",
   "execution_count": 26,
   "metadata": {},
   "outputs": [
    {
     "name": "stdout",
     "output_type": "stream",
     "text": [
      "Recaudado: 0\n",
      "Pendiente de cobro:  0\n",
      "Recaudado: 0\n",
      "Pendiente de cobro:  0\n",
      "Recaudado: 0\n",
      "Pendiente de cobro:  0\n",
      "Recaudado: 0\n",
      "Pendiente de cobro:  0\n",
      "Recaudado: 0\n",
      "Pendiente de cobro:  0\n",
      "Recaudado: 0\n",
      "Pendiente de cobro:  0\n",
      "Recaudado: 0\n",
      "Pendiente de cobro:  0\n",
      "Recaudado: 0\n",
      "Pendiente de cobro:  0\n"
     ]
    }
   ],
   "source": [
    "facturas = {}\n",
    "cobrado = 0\n",
    "pendiente = 0\n",
    "more = ''\n",
    "while more != 'T':\n",
    "    if more == 'A':\n",
    "        clave = input('Introduce el número de la factura: ')\n",
    "        coste = float(input('Introduce el coste de la factura: '))\n",
    "        facturas[clave] = coste\n",
    "        pendiente += coste\n",
    "    if more == 'P':\n",
    "        clave = input('Introduce el número de la factura a pagar: ')\n",
    "        coste = facturas.pop(clave, 0)\n",
    "        cobrado += coste\n",
    "        pendiente -= coste\n",
    "    print('Recaudado:', cobrado)\n",
    "    print('Pendiente de cobro: ', pendiente)\n",
    "    more = input('¿Quieres añadir una nueva factura (A), pagarla (P) o terminar (T)? ')"
   ]
  },
  {
   "cell_type": "code",
   "execution_count": 2,
   "metadata": {},
   "outputs": [
    {
     "ename": "KeyboardInterrupt",
     "evalue": "",
     "output_type": "error",
     "traceback": [
      "\u001b[1;31m---------------------------------------------------------------------------\u001b[0m",
      "\u001b[1;31mKeyboardInterrupt\u001b[0m                         Traceback (most recent call last)",
      "\u001b[1;32mc:\\MCD\\Programacion 1\\Programacion_1\\6. Diccionarios.ipynb Cell 22\u001b[0m line \u001b[0;36m6\n\u001b[0;32m      <a href='vscode-notebook-cell:/c%3A/MCD/Programacion%201/Programacion_1/6.%20Diccionarios.ipynb#X32sZmlsZQ%3D%3D?line=3'>4</a>\u001b[0m more \u001b[39m=\u001b[39m \u001b[39m'\u001b[39m\u001b[39m'\u001b[39m\n\u001b[0;32m      <a href='vscode-notebook-cell:/c%3A/MCD/Programacion%201/Programacion_1/6.%20Diccionarios.ipynb#X32sZmlsZQ%3D%3D?line=4'>5</a>\u001b[0m \u001b[39mwhile\u001b[39;00m more \u001b[39m!=\u001b[39m \u001b[39m'\u001b[39m\u001b[39mT\u001b[39m\u001b[39m'\u001b[39m:\n\u001b[1;32m----> <a href='vscode-notebook-cell:/c%3A/MCD/Programacion%201/Programacion_1/6.%20Diccionarios.ipynb#X32sZmlsZQ%3D%3D?line=5'>6</a>\u001b[0m     \u001b[39mif\u001b[39;00m more \u001b[39m==\u001b[39;49m \u001b[39m'\u001b[39;49m\u001b[39mA\u001b[39;49m\u001b[39m'\u001b[39;49m:\n\u001b[0;32m      <a href='vscode-notebook-cell:/c%3A/MCD/Programacion%201/Programacion_1/6.%20Diccionarios.ipynb#X32sZmlsZQ%3D%3D?line=6'>7</a>\u001b[0m         clave \u001b[39m=\u001b[39m \u001b[39minput\u001b[39m(\u001b[39m\"\u001b[39m\u001b[39mIntroduce el numero de la factura: \u001b[39m\u001b[39m\"\u001b[39m)\n\u001b[0;32m      <a href='vscode-notebook-cell:/c%3A/MCD/Programacion%201/Programacion_1/6.%20Diccionarios.ipynb#X32sZmlsZQ%3D%3D?line=7'>8</a>\u001b[0m         coste \u001b[39m=\u001b[39m \u001b[39mfloat\u001b[39m(\u001b[39minput\u001b[39m(\u001b[39m\"\u001b[39m\u001b[39mIntroduce el costo de factura: \u001b[39m\u001b[39m\"\u001b[39m))\n",
      "\u001b[1;31mKeyboardInterrupt\u001b[0m: "
     ]
    }
   ],
   "source": [
    "facturas = {}\n",
    "cobrado = 0\n",
    "pendiente = 0\n",
    "more = ''\n",
    "while more != 'T':\n",
    "    if more == 'A':\n",
    "        clave = input(\"Introduce el numero de la factura: \")\n",
    "        coste = float(input(\"Introduce el costo de factura: \"))\n",
    "        facturas[clave]= coste\n",
    "        pendiente += coste\n",
    "    if more == 'P':\n",
    "        clave = input(\"Introduce el numero de la factura a pagar: \")\n",
    "        coste = facturas.pop(clave,0)\n",
    "        cobrado += coste\n",
    "        pendiente -= coste\n",
    "print(\"Recaudado: \", cobrado)\n",
    "print(\"Pendiente de cobro: \", pendiente)\n",
    "more = input(\"Quieres añadir una nueva factura (A), pagarla (P) o terminar (T)? \")"
   ]
  }
 ],
 "metadata": {
  "kernelspec": {
   "display_name": "base",
   "language": "python",
   "name": "python3"
  },
  "language_info": {
   "codemirror_mode": {
    "name": "ipython",
    "version": 3
   },
   "file_extension": ".py",
   "mimetype": "text/x-python",
   "name": "python",
   "nbconvert_exporter": "python",
   "pygments_lexer": "ipython3",
   "version": "3.10.9"
  },
  "orig_nbformat": 4
 },
 "nbformat": 4,
 "nbformat_minor": 2
}
