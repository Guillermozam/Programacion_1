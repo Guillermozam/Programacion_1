{
 "cells": [
  {
   "cell_type": "markdown",
   "metadata": {},
   "source": [
    "# Desafío 3: Administrador de contactos\n"
   ]
  },
  {
   "cell_type": "markdown",
   "metadata": {},
   "source": [
    "Crea un programa que permita administrar una lista de contactos. Cada contacto deberá tener un nombre, un número de teléfono y una dirección de correo electrónico. El programa deberá ofrecer las siguientes funcionalidades:\n",
    "\n",
    "* Agregar un contacto nuevo\n",
    "* Ver la lista de contactos\n",
    "* Buscar un contacto por nombre\n",
    "* Eliminar un contacto por nombre\n",
    "\n",
    "\n",
    "Usa listas y tuplas para almacenar los contactos y un diccionario para almacenar la información de cada contacto. También deberás crear distintas funciones para cada una de las funcionalidades."
   ]
  },
  {
   "cell_type": "code",
   "execution_count": 44,
   "metadata": {},
   "outputs": [
    {
     "name": "stdout",
     "output_type": "stream",
     "text": [
      "Se ha agregado el contacto\n",
      "Selecciona una opción:\n",
      "1. Agregar un contacto nuevo\n",
      "2. Ver la lista de contactos\n",
      "3. Buscar un contacto por nombre\n",
      "4. Eliminar un contacto por nombre\n",
      "5. Cerrar programa\n",
      "No se encontro ningun contacto en el nombre {nombre} \n",
      "Selecciona una opción:\n",
      "1. Agregar un contacto nuevo\n",
      "2. Ver la lista de contactos\n",
      "3. Buscar un contacto por nombre\n",
      "4. Eliminar un contacto por nombre\n",
      "5. Cerrar programa\n",
      "No se encontro ningun contacto en el nombre {nombre} \n",
      "Selecciona una opción:\n",
      "1. Agregar un contacto nuevo\n",
      "2. Ver la lista de contactos\n",
      "3. Buscar un contacto por nombre\n",
      "4. Eliminar un contacto por nombre\n",
      "5. Cerrar programa\n"
     ]
    }
   ],
   "source": [
    "#Se le egrega el diccionario\n",
    "contactos = [ ]\n",
    "\n",
    "#\"Agregar un contacto nuevo\n",
    "def agregar_contacto(contacto) : \n",
    "    nombre = input(\"Ingresa el nombre: \")\n",
    "    telefono = input(\"Ingresa el numero de telefono: \")\n",
    "    correo = input(\"Ingresa el correo electronico: \")\n",
    "print (\"Se ha agregado el contacto\")\n",
    "\n",
    "#Ver lista de contactos\n",
    "def ver_lista():\n",
    "    if not contactos: \n",
    "        print(\"La lista de contactos esta vacia. \")\n",
    "    else:\n",
    "        for i, contacto in enumerate(contactos, 1):\n",
    "            print(f\"{i}. Nombre: {contacto['Nombre']}, Teléfono: {contacto['Teléfono']}, Correo: {contacto['Correo']}\")\n",
    "\n",
    "#Buscar contacto por nombre\n",
    "def buscar_contacto(contactos, nombre):\n",
    "    for contacto in contactos:\n",
    "        if contacto['Nombre'] == nombre:\n",
    "            print(f\"Contacto encontrado - Nombre: {contacto['Nombre']}, Teléfono: {contacto['Teléfono']}, Correo: {contacto['Correo']}\")\n",
    "            return\n",
    "    print('Contacto {nombre} no encontrado.')\n",
    "\n",
    "#Eliminar un contacto por nombre\n",
    "def eliminar_contacto(contactos): \n",
    "    nombre = input(\"Ingresa el nombre del contacto que quieres eliminar: \")\n",
    "    if nombre in contactos:\n",
    "       print (\"El contacto {nombre} ha sido eliminado\" )\n",
    "    else:\n",
    "        print (\"No se encontro ningun contacto en el nombre {nombre} \")\n",
    "\n",
    "\n",
    "#Se añade la funcionalidad\n",
    "def main():\n",
    "    while True:\n",
    "        print(\"Selecciona una opción:\")\n",
    "        print(\"1. Agregar un contacto nuevo\")\n",
    "        print(\"2. Ver la lista de contactos\")\n",
    "        print(\"3. Buscar un contacto por nombre\")\n",
    "        print(\"4. Eliminar un contacto por nombre\")\n",
    "        print(\"5. Cerrar programa\")\n",
    "        opcion = input(\"Ingresa el número de la opción que deseas: \")\n",
    "        if opcion == \"1\":\n",
    "            agregar_contacto(contactos)\n",
    "        elif opcion == \"2\":\n",
    "            ver_contactos(contactos)\n",
    "        elif opcion == \"3\":\n",
    "            buscar_contacto(contactos)\n",
    "        elif opcion == \"4\":\n",
    "            eliminar_contacto(contactos)\n",
    "        elif opcion == \"5\":\n",
    "            break\n",
    "        else:\n",
    "            print(\"La opción seleccionada no es válida\")\n",
    "            main()\n",
    "\n",
    "#Se manda a llamar la función main para ejecutar el código\n",
    "if __name__ == \"__main__\":\n",
    "  main()"
   ]
  }
 ],
 "metadata": {
  "kernelspec": {
   "display_name": "Programacion_1",
   "language": "python",
   "name": "python3"
  },
  "language_info": {
   "codemirror_mode": {
    "name": "ipython",
    "version": 3
   },
   "file_extension": ".py",
   "mimetype": "text/x-python",
   "name": "python",
   "nbconvert_exporter": "python",
   "pygments_lexer": "ipython3",
   "version": "3.11.5"
  }
 },
 "nbformat": 4,
 "nbformat_minor": 2
}
