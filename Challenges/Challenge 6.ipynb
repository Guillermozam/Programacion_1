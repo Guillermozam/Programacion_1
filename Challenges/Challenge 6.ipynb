{
 "cells": [
  {
   "cell_type": "markdown",
   "metadata": {},
   "source": [
    "# Desafío 6: Contador de Palabras"
   ]
  },
  {
   "cell_type": "markdown",
   "metadata": {},
   "source": [
    "Crea un script que lea un archivo de texto y cuente el número de ocurrencias de cada palabra en el archivo. Luego, deberá escribir estas estadísticas en un nuevo archivo."
   ]
  },
  {
   "cell_type": "code",
   "execution_count": 25,
   "metadata": {},
   "outputs": [
    {
     "name": "stdout",
     "output_type": "stream",
     "text": [
      "Las estadísticas se han guardado en {texto_censurado_evangelio.txt.}.\n"
     ]
    }
   ],
   "source": [
    "from collections import Counter\n",
    "import string\n",
    "\n",
    "def contar_ocurrencias_palabras(archivo_entrada, archivo_salida):\n",
    "    # Se abre el contenido de entrada y se quitan las puntuaciones\n",
    "    with open(archivo_entrada, 'r', encoding='utf-8') as archivo:\n",
    "        contenido = archivo.read().lower()\n",
    "        contenido_sin_puntuacion = contenido.translate(str.maketrans(\"\", \"\", string.punctuation))\n",
    "\n",
    "    # Se divide el contenido y se cuentan las palabras\n",
    "    palabras = contenido_sin_puntuacion.split()\n",
    "    conteo_palabras = Counter(palabras)\n",
    "\n",
    "    # Escribir las estadísticas en el archivo de salida\n",
    "    with open(archivo_salida, 'w', encoding='utf-8') as archivo:\n",
    "        for palabra, conteo in conteo_palabras.items():\n",
    "            archivo.write('{palabra}: {conteo}')\n",
    "\n",
    "if __name__ == \"__main__\":\n",
    "    archivo_entrada = 'evangelio_segun_marcos.txt.'\n",
    "    archivo_salida = 'texto_censurado_evangelio.txt.'\n",
    "\n",
    "    contar_ocurrencias_palabras(archivo_entrada, archivo_salida)\n",
    "\n",
    "    print('Las estadísticas se han guardado en {texto_censurado_evangelio.txt.}.')\n"
   ]
  }
 ],
 "metadata": {
  "kernelspec": {
   "display_name": "Programacion_1",
   "language": "python",
   "name": "python3"
  },
  "language_info": {
   "codemirror_mode": {
    "name": "ipython",
    "version": 3
   },
   "file_extension": ".py",
   "mimetype": "text/x-python",
   "name": "python",
   "nbconvert_exporter": "python",
   "pygments_lexer": "ipython3",
   "version": "3.11.5"
  }
 },
 "nbformat": 4,
 "nbformat_minor": 2
}
