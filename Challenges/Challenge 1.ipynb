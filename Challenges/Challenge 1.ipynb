{
 "cells": [
  {
   "cell_type": "markdown",
   "metadata": {},
   "source": [
    "# Desafío 1: Palíndromos\n",
    "Un palíndromo es una palabra o frase que se lee igual de adelante hacia atrás que de atrás hacia adelante, ignorando los espacios, puntuación y capitalización. El desafío es crear un programa que tome una cadena ingresada por el usuario y determine si es un palíndromo."
   ]
  },
  {
   "cell_type": "code",
   "execution_count": 9,
   "metadata": {},
   "outputs": [
    {
     "name": "stdout",
     "output_type": "stream",
     "text": [
      "'ana' es un paliandromo.\n"
     ]
    }
   ],
   "source": [
    "palabra = input(\"Introduce la palabra: \")\n",
    "def es_paliandromo(palabra):\n",
    "    return palabra == palabra[::-1]\n",
    "if es_paliandromo(palabra): \n",
    "    print(f\"'{palabra}' es un paliandromo.\")\n",
    "else:\n",
    "    print(f\"'{palabra}' no es un paliandromo.\")\n"
   ]
  }
 ],
 "metadata": {
  "kernelspec": {
   "display_name": "base",
   "language": "python",
   "name": "python3"
  },
  "language_info": {
   "codemirror_mode": {
    "name": "ipython",
    "version": 3
   },
   "file_extension": ".py",
   "mimetype": "text/x-python",
   "name": "python",
   "nbconvert_exporter": "python",
   "pygments_lexer": "ipython3",
   "version": "3.10.9"
  },
  "orig_nbformat": 4
 },
 "nbformat": 4,
 "nbformat_minor": 2
}
