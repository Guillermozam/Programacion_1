{
 "cells": [
  {
   "cell_type": "markdown",
   "metadata": {},
   "source": [
    "# Desafio 4. Implementación de Funciones map, filter, y reduce Propias"
   ]
  },
  {
   "cell_type": "markdown",
   "metadata": {},
   "source": [
    "Crea tus propias versiones de las funciones map, filter y reduce. Estas funciones deben tomar como argumentos una función y una lista (y un valor inicial en el caso de reduce) y deben retornar un iterable (puedes retornar una lista)."
   ]
  },
  {
   "cell_type": "markdown",
   "metadata": {},
   "source": [
    "* Funcion Map Propia"
   ]
  },
  {
   "cell_type": "code",
   "execution_count": 28,
   "metadata": {},
   "outputs": [
    {
     "name": "stdout",
     "output_type": "stream",
     "text": [
      "[25, 64, 36, 4, 9]\n"
     ]
    }
   ],
   "source": [
    "def my_map(func, lista):\n",
    "    return [func(item) for item in lista]\n",
    "\n",
    "def cuadrado(x):\n",
    "    return x ** 2\n",
    "\n",
    "numeros = [5, 8, 6, 2, 3]\n",
    "result = my_map(cuadrado, numeros)\n",
    "print(result) "
   ]
  },
  {
   "cell_type": "markdown",
   "metadata": {},
   "source": [
    "* Funcion Filter Propia"
   ]
  },
  {
   "cell_type": "code",
   "execution_count": 35,
   "metadata": {},
   "outputs": [
    {
     "name": "stdout",
     "output_type": "stream",
     "text": [
      "[8, 6, 2]\n"
     ]
    }
   ],
   "source": [
    "def my_filter(func,lista):\n",
    "    return [item for item in lista if func(item)]\n",
    "\n",
    "resultado = []\n",
    "for i in lista: \n",
    "    resultado.append(i)\n",
    "\n",
    "numeros = [5, 8, 6, 2, 3]\n",
    "print(my_filter(lambda x: x% 2 == 0, numeros))\n",
    "\n"
   ]
  },
  {
   "cell_type": "markdown",
   "metadata": {},
   "source": [
    "* Funcion Reduce"
   ]
  },
  {
   "cell_type": "code",
   "execution_count": 36,
   "metadata": {},
   "outputs": [
    {
     "name": "stdout",
     "output_type": "stream",
     "text": [
      "1440\n"
     ]
    }
   ],
   "source": [
    "def my_reduce(func, lista, valor_inicial=None):\n",
    "    iterator = iter(lista)\n",
    "    \n",
    "    if valor_inicial is None:\n",
    "        acumulador = next(iterator)\n",
    "    else:\n",
    "        acumulador = valor_inicial\n",
    "    \n",
    "    for item in iterator:\n",
    "        acumulador = func(acumulador, item)\n",
    "    \n",
    "    return acumulador\n",
    "\n",
    "# Ejemplo de uso:\n",
    "def multiply(x, y):\n",
    "    return x * y\n",
    "\n",
    "numeros = [5, 8, 6, 2, 3]\n",
    "resultado = my_reduce(multiply, numeros)\n",
    "print(resultado)  \n"
   ]
  }
 ],
 "metadata": {
  "kernelspec": {
   "display_name": "Programacion_1",
   "language": "python",
   "name": "python3"
  },
  "language_info": {
   "codemirror_mode": {
    "name": "ipython",
    "version": 3
   },
   "file_extension": ".py",
   "mimetype": "text/x-python",
   "name": "python",
   "nbconvert_exporter": "python",
   "pygments_lexer": "ipython3",
   "version": "3.11.5"
  }
 },
 "nbformat": 4,
 "nbformat_minor": 2
}
