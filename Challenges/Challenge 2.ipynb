{
 "cells": [
  {
   "cell_type": "markdown",
   "metadata": {},
   "source": [
    "# Desafío 2: Generador de Histograma\n",
    "Crear un programa que tome una lista de números y genere un histograma basado en esos números, usando asteriscos para crear las barras del histograma.\n"
   ]
  },
  {
   "cell_type": "code",
   "execution_count": 36,
   "metadata": {},
   "outputs": [
    {
     "name": "stdout",
     "output_type": "stream",
     "text": [
      "histograma: \n",
      "*\n",
      "**\n",
      "***\n",
      "****\n",
      "*****\n"
     ]
    }
   ],
   "source": [
    "histograma = input(\"Inserte numeros separados por espacio para generar histograma\")\n",
    "def generar_histograma(numeros):\n",
    "    maximo = max(numeros)\n",
    "    for i in range(maximo, 0, -1,):\n",
    "        linea = \"\"\n",
    "    for numeros in numeros :\n",
    "        if numeros >= i:\n",
    "            linea += \"*\"\n",
    "        else: linea += \" \"\n",
    "        print(linea)\n",
    "\n",
    "\n",
    "print(\"histograma: \")\n",
    "generar_histograma(numeros)\n"
   ]
  }
 ],
 "metadata": {
  "kernelspec": {
   "display_name": "base",
   "language": "python",
   "name": "python3"
  },
  "language_info": {
   "codemirror_mode": {
    "name": "ipython",
    "version": 3
   },
   "file_extension": ".py",
   "mimetype": "text/x-python",
   "name": "python",
   "nbconvert_exporter": "python",
   "pygments_lexer": "ipython3",
   "version": "3.10.9"
  },
  "orig_nbformat": 4
 },
 "nbformat": 4,
 "nbformat_minor": 2
}
